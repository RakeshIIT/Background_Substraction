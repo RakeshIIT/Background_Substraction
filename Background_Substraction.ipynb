{
 "cells": [
  {
   "cell_type": "markdown",
   "id": "15d3fc34",
   "metadata": {},
   "source": [
    "Background substraction using KNN and Gaussian Matrix"
   ]
  },
  {
   "cell_type": "code",
   "execution_count": null,
   "id": "e850d591",
   "metadata": {},
   "outputs": [],
   "source": [
    "import cv2 as cv\n",
    "import numpy as np\n",
    "\n",
    "#KNN\n",
    "backSub = cv.createBackgroundSubtractorKNN()\n",
    "\n",
    "#Gaussian\n",
    "#backSub = cv.createBackgroundSubtractorMOG2()\n",
    "\n",
    "capture = cv.VideoCapture(0, cv.CAP_DSHOW)\n",
    "\n",
    "if not capture.isOpened():\n",
    "    print('Unable to open')\n",
    "    exit(0)\n",
    "\n",
    "while True:\n",
    "    ret, frame = capture.read()\n",
    "    if frame is None:\n",
    "        break\n",
    "\n",
    "    frame = cv.resize(frame, (400,400))\n",
    "\n",
    "    \n",
    "    fgMask = backSub.apply(frame)\n",
    "\n",
    "\n",
    "    kernel = np.ones((5,5), np.uint8)\n",
    "\n",
    "    fgMask = cv.erode(fgMask, kernel, iterations=2)\n",
    "    fgMask = cv.dilate(fgMask, kernel, iterations=2)\n",
    "    \n",
    "    \n",
    "    \n",
    "#     cv.rectangle(frame, (10, 2), (100,20), (255,255,255), -1)\n",
    "#     cv.putText(frame, str(capture.get(cv.CAP_PROP_POS_FRAMES)), (15, 15),\n",
    "#                cv.FONT_HERSHEY_SIMPLEX, 0.5 , (0,0,0))\n",
    "    \n",
    "\n",
    "    fgMask[np.abs(fgMask) < 253] = 0\n",
    "\n",
    "\n",
    "    cv.imshow('Frame', frame)\n",
    "    cv.imshow('FG Mask', fgMask)\n",
    "    \n",
    "    keyboard = cv.waitKey(30)\n",
    "    if keyboard == 'q':\n",
    "        break"
   ]
  },
  {
   "cell_type": "markdown",
   "id": "415a26bb",
   "metadata": {},
   "source": [
    "Substaction of Images"
   ]
  },
  {
   "cell_type": "code",
   "execution_count": null,
   "id": "78f2bf98",
   "metadata": {},
   "outputs": [],
   "source": [
    "# We don't need to do this again, but it's a good habit\n",
    "import cv2 \n",
    "\n",
    "# Load an image using 'imread' specifying the path to image\n",
    "input1 = cv2.imread('./image_examples/1.jpg')\n",
    "input2 = cv2.imread('./image_examples/2.jpg')\n",
    "\n",
    "\t\n",
    "grayImage1 = cv2.cvtColor(input1, cv2.COLOR_BGR2GRAY)\n",
    "grayImage2 = cv2.cvtColor(input2, cv2.COLOR_BGR2GRAY)\n",
    "\n",
    "subtracted = cv2.subtract(grayImage1, grayImage2)\n",
    "# Our file 'input.jpg' is now loaded and stored in python \n",
    "# as a varaible we named 'image'\n",
    "\n",
    "# To display our image variable, we use 'imshow'\n",
    "# The first parameter will be title shown on image window\n",
    "# The second parameter is the image varialbe\n",
    "cv2.imshow('Subtracted Image', subtracted)\n",
    "\n",
    "# 'waitKey' allows us to input information when a image window is open\n",
    "# By leaving it blank it just waits for anykey to be pressed before \n",
    "# continuing. By placing numbers (except 0), we can specify a delay for\n",
    "# how long you keep the window open (time is in milliseconds here)\n",
    "cv2.waitKey()\n",
    "\n",
    "# This closes all open windows \n",
    "# Failure to place this will cause your program to hang\n",
    "#cv.waitKey(50000)\n",
    "cv2.destroyAllWindows()\n"
   ]
  },
  {
   "cell_type": "code",
   "execution_count": null,
   "id": "2056f08b",
   "metadata": {},
   "outputs": [],
   "source": []
  }
 ],
 "metadata": {
  "kernelspec": {
   "display_name": "Python 3 (ipykernel)",
   "language": "python",
   "name": "python3"
  },
  "language_info": {
   "codemirror_mode": {
    "name": "ipython",
    "version": 3
   },
   "file_extension": ".py",
   "mimetype": "text/x-python",
   "name": "python",
   "nbconvert_exporter": "python",
   "pygments_lexer": "ipython3",
   "version": "3.9.7"
  }
 },
 "nbformat": 4,
 "nbformat_minor": 5
}
